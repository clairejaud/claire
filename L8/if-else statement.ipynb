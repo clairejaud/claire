{
 "cells": [
  {
   "cell_type": "markdown",
   "id": "2eedd340",
   "metadata": {},
   "source": [
    "# if-else Statement <hr style=\"border:2.5px solid #800080\"></hr>\n"
   ]
  },
  {
   "cell_type": "markdown",
   "id": "546e234d",
   "metadata": {},
   "source": [
    "Data Analyst : Claire Jaud <br>\n",
    "Department : Electrical Engineering"
   ]
  },
  {
   "cell_type": "markdown",
   "id": "acf5056f",
   "metadata": {},
   "source": [
    "# if-statement"
   ]
  },
  {
   "cell_type": "code",
   "execution_count": 1,
   "id": "e6a08e90",
   "metadata": {},
   "outputs": [
    {
     "name": "stdout",
     "output_type": "stream",
     "text": [
      "PASSED!\n"
     ]
    }
   ],
   "source": [
    "# passing score is 5.0 \n",
    "grade = 7.3 \n",
    "\n",
    "if grade >= 5.0: \n",
    "    print(\"PASSED!\")"
   ]
  },
  {
   "cell_type": "code",
   "execution_count": 2,
   "id": "00c91c66",
   "metadata": {},
   "outputs": [
    {
     "name": "stdout",
     "output_type": "stream",
     "text": [
      "FAILED!\n"
     ]
    }
   ],
   "source": [
    "# two statment are evaluated \n",
    "grade = 4.5\n",
    "\n",
    "# evaluate grade\n",
    "if grade >= 5.0:\n",
    "    print(\"PASSED!\")\n",
    "if grade < 5.0: \n",
    "    print(\"FAILED!\")"
   ]
  },
  {
   "cell_type": "markdown",
   "id": "278208a5",
   "metadata": {},
   "source": [
    "# if-else Statement"
   ]
  },
  {
   "cell_type": "code",
   "execution_count": 3,
   "id": "8875b9c9",
   "metadata": {},
   "outputs": [
    {
     "name": "stdout",
     "output_type": "stream",
     "text": [
      "FAILED!\n"
     ]
    }
   ],
   "source": [
    "# if grade >= 5.0 is True, else will not be evaluated \n",
    "grade = 4.0 \n",
    "\n",
    "# evaluate grade \n",
    "if grade >= 5.0:\n",
    "    print(\"PASSED!\")\n",
    "else:\n",
    "    print(\"FAILED!\")"
   ]
  },
  {
   "cell_type": "markdown",
   "id": "8d1cfc00",
   "metadata": {},
   "source": [
    "# if-elif-else Statement"
   ]
  },
  {
   "cell_type": "code",
   "execution_count": 4,
   "id": "2950c69d",
   "metadata": {},
   "outputs": [
    {
     "name": "stdout",
     "output_type": "stream",
     "text": [
      "FAILED!\n"
     ]
    }
   ],
   "source": [
    "# if grade >= 5.0 is True, other conditions will not be evaluated \n",
    "grade = 2.9\n",
    "\n",
    "# evaluate grade \n",
    "if grade >= 5.0:\n",
    "    print(\"PASSED!\")\n",
    "elif grade < 5.0: # 5.0 evaluate first\n",
    "    print(\"FAILED!\")\n",
    "elif grade < 3.0: \n",
    "    print(\"DISMISSED!\")\n",
    "else: \n",
    "    print(\"INVALID!\")"
   ]
  },
  {
   "cell_type": "code",
   "execution_count": 5,
   "id": "a8c56fc0",
   "metadata": {},
   "outputs": [
    {
     "name": "stdout",
     "output_type": "stream",
     "text": [
      "DISMISSED!\n"
     ]
    }
   ],
   "source": [
    "# if grade >= 5.0 is True, other conditions will not be evaluated \n",
    "grade = 2.9\n",
    "\n",
    "# evaluate grade \n",
    "if grade >= 5.0:\n",
    "    print(\"PASSED!\")\n",
    "elif grade < 3.0: # < 3.0 evaluate first \n",
    "    print(\"DISMISSED!\")\n",
    "elif grade < 5.0:\n",
    "    print(\"FAILED!\")\n",
    "else:\n",
    "    print(\"INVALID!\")"
   ]
  }
 ],
 "metadata": {
  "kernelspec": {
   "display_name": "Python 3",
   "language": "python",
   "name": "python3"
  },
  "language_info": {
   "codemirror_mode": {
    "name": "ipython",
    "version": 3
   },
   "file_extension": ".py",
   "mimetype": "text/x-python",
   "name": "python",
   "nbconvert_exporter": "python",
   "pygments_lexer": "ipython3",
   "version": "3.11.9"
  }
 },
 "nbformat": 4,
 "nbformat_minor": 5
}

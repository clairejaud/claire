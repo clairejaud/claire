{
 "cells": [
  {
   "cell_type": "markdown",
   "id": "b7cefd17",
   "metadata": {},
   "source": [
    "# The z-Distribution <hr style=\"border:2.5px solid #800080\"></hr>"
   ]
  },
  {
   "cell_type": "markdown",
   "id": "39ccde32",
   "metadata": {},
   "source": [
    "Data Analyst: Claire Jaud <br>\n",
    "Department: Electrical Engineering"
   ]
  },
  {
   "cell_type": "code",
   "execution_count": 13,
   "id": "8fa1b162",
   "metadata": {},
   "outputs": [],
   "source": [
    "# imports and packages \n",
    "import pandas as pd\n",
    "import numpy as np  \n",
    "import matplotlib.pyplot as plt\n",
    "from scipy import stats "
   ]
  },
  {
   "cell_type": "code",
   "execution_count": 38,
   "id": "96fd1f7a",
   "metadata": {},
   "outputs": [
    {
     "data": {
      "text/html": [
       "<div>\n",
       "<style scoped>\n",
       "    .dataframe tbody tr th:only-of-type {\n",
       "        vertical-align: middle;\n",
       "    }\n",
       "\n",
       "    .dataframe tbody tr th {\n",
       "        vertical-align: top;\n",
       "    }\n",
       "\n",
       "    .dataframe thead th {\n",
       "        text-align: right;\n",
       "    }\n",
       "</style>\n",
       "<table border=\"1\" class=\"dataframe\">\n",
       "  <thead>\n",
       "    <tr style=\"text-align: right;\">\n",
       "      <th></th>\n",
       "      <th>Sample</th>\n",
       "      <th>Voltage</th>\n",
       "    </tr>\n",
       "  </thead>\n",
       "  <tbody>\n",
       "    <tr>\n",
       "      <th>0</th>\n",
       "      <td>1</td>\n",
       "      <td>119.8</td>\n",
       "    </tr>\n",
       "    <tr>\n",
       "      <th>1</th>\n",
       "      <td>2</td>\n",
       "      <td>120.3</td>\n",
       "    </tr>\n",
       "    <tr>\n",
       "      <th>2</th>\n",
       "      <td>3</td>\n",
       "      <td>154.0</td>\n",
       "    </tr>\n",
       "    <tr>\n",
       "      <th>3</th>\n",
       "      <td>4</td>\n",
       "      <td>119.5</td>\n",
       "    </tr>\n",
       "    <tr>\n",
       "      <th>4</th>\n",
       "      <td>5</td>\n",
       "      <td>120.2</td>\n",
       "    </tr>\n",
       "    <tr>\n",
       "      <th>5</th>\n",
       "      <td>6</td>\n",
       "      <td>119.9</td>\n",
       "    </tr>\n",
       "    <tr>\n",
       "      <th>6</th>\n",
       "      <td>7</td>\n",
       "      <td>120.4</td>\n",
       "    </tr>\n",
       "    <tr>\n",
       "      <th>7</th>\n",
       "      <td>8</td>\n",
       "      <td>119.6</td>\n",
       "    </tr>\n",
       "    <tr>\n",
       "      <th>8</th>\n",
       "      <td>9</td>\n",
       "      <td>120.1</td>\n",
       "    </tr>\n",
       "    <tr>\n",
       "      <th>9</th>\n",
       "      <td>10</td>\n",
       "      <td>119.7</td>\n",
       "    </tr>\n",
       "    <tr>\n",
       "      <th>10</th>\n",
       "      <td>11</td>\n",
       "      <td>120.1</td>\n",
       "    </tr>\n",
       "    <tr>\n",
       "      <th>11</th>\n",
       "      <td>12</td>\n",
       "      <td>119.9</td>\n",
       "    </tr>\n",
       "    <tr>\n",
       "      <th>12</th>\n",
       "      <td>13</td>\n",
       "      <td>119.7</td>\n",
       "    </tr>\n",
       "    <tr>\n",
       "      <th>13</th>\n",
       "      <td>14</td>\n",
       "      <td>139.0</td>\n",
       "    </tr>\n",
       "    <tr>\n",
       "      <th>14</th>\n",
       "      <td>15</td>\n",
       "      <td>119.6</td>\n",
       "    </tr>\n",
       "    <tr>\n",
       "      <th>15</th>\n",
       "      <td>16</td>\n",
       "      <td>93.3</td>\n",
       "    </tr>\n",
       "    <tr>\n",
       "      <th>16</th>\n",
       "      <td>17</td>\n",
       "      <td>119.8</td>\n",
       "    </tr>\n",
       "    <tr>\n",
       "      <th>17</th>\n",
       "      <td>18</td>\n",
       "      <td>120.2</td>\n",
       "    </tr>\n",
       "    <tr>\n",
       "      <th>18</th>\n",
       "      <td>19</td>\n",
       "      <td>119.9</td>\n",
       "    </tr>\n",
       "    <tr>\n",
       "      <th>19</th>\n",
       "      <td>20</td>\n",
       "      <td>120.6</td>\n",
       "    </tr>\n",
       "    <tr>\n",
       "      <th>20</th>\n",
       "      <td>21</td>\n",
       "      <td>94.4</td>\n",
       "    </tr>\n",
       "    <tr>\n",
       "      <th>21</th>\n",
       "      <td>22</td>\n",
       "      <td>120.0</td>\n",
       "    </tr>\n",
       "    <tr>\n",
       "      <th>22</th>\n",
       "      <td>23</td>\n",
       "      <td>120.2</td>\n",
       "    </tr>\n",
       "    <tr>\n",
       "      <th>23</th>\n",
       "      <td>24</td>\n",
       "      <td>119.8</td>\n",
       "    </tr>\n",
       "    <tr>\n",
       "      <th>24</th>\n",
       "      <td>25</td>\n",
       "      <td>120.1</td>\n",
       "    </tr>\n",
       "    <tr>\n",
       "      <th>25</th>\n",
       "      <td>26</td>\n",
       "      <td>119.7</td>\n",
       "    </tr>\n",
       "    <tr>\n",
       "      <th>26</th>\n",
       "      <td>27</td>\n",
       "      <td>120.0</td>\n",
       "    </tr>\n",
       "    <tr>\n",
       "      <th>27</th>\n",
       "      <td>28</td>\n",
       "      <td>120.3</td>\n",
       "    </tr>\n",
       "    <tr>\n",
       "      <th>28</th>\n",
       "      <td>29</td>\n",
       "      <td>119.5</td>\n",
       "    </tr>\n",
       "    <tr>\n",
       "      <th>29</th>\n",
       "      <td>30</td>\n",
       "      <td>120.4</td>\n",
       "    </tr>\n",
       "  </tbody>\n",
       "</table>\n",
       "</div>"
      ],
      "text/plain": [
       "    Sample  Voltage\n",
       "0        1    119.8\n",
       "1        2    120.3\n",
       "2        3    154.0\n",
       "3        4    119.5\n",
       "4        5    120.2\n",
       "5        6    119.9\n",
       "6        7    120.4\n",
       "7        8    119.6\n",
       "8        9    120.1\n",
       "9       10    119.7\n",
       "10      11    120.1\n",
       "11      12    119.9\n",
       "12      13    119.7\n",
       "13      14    139.0\n",
       "14      15    119.6\n",
       "15      16     93.3\n",
       "16      17    119.8\n",
       "17      18    120.2\n",
       "18      19    119.9\n",
       "19      20    120.6\n",
       "20      21     94.4\n",
       "21      22    120.0\n",
       "22      23    120.2\n",
       "23      24    119.8\n",
       "24      25    120.1\n",
       "25      26    119.7\n",
       "26      27    120.0\n",
       "27      28    120.3\n",
       "28      29    119.5\n",
       "29      30    120.4"
      ]
     },
     "execution_count": 38,
     "metadata": {},
     "output_type": "execute_result"
    }
   ],
   "source": [
    "# load datatest \n",
    "df = pd.read_csv(r\"transformer-voltage.csv\",delimiter=\",\")\n",
    "df"
   ]
  },
  {
   "cell_type": "code",
   "execution_count": 39,
   "id": "42a55b12",
   "metadata": {},
   "outputs": [
    {
     "data": {
      "text/plain": [
       "<bound method DataFrame.info of     Sample  Voltage\n",
       "0        1    119.8\n",
       "1        2    120.3\n",
       "2        3    154.0\n",
       "3        4    119.5\n",
       "4        5    120.2\n",
       "5        6    119.9\n",
       "6        7    120.4\n",
       "7        8    119.6\n",
       "8        9    120.1\n",
       "9       10    119.7\n",
       "10      11    120.1\n",
       "11      12    119.9\n",
       "12      13    119.7\n",
       "13      14    139.0\n",
       "14      15    119.6\n",
       "15      16     93.3\n",
       "16      17    119.8\n",
       "17      18    120.2\n",
       "18      19    119.9\n",
       "19      20    120.6\n",
       "20      21     94.4\n",
       "21      22    120.0\n",
       "22      23    120.2\n",
       "23      24    119.8\n",
       "24      25    120.1\n",
       "25      26    119.7\n",
       "26      27    120.0\n",
       "27      28    120.3\n",
       "28      29    119.5\n",
       "29      30    120.4>"
      ]
     },
     "execution_count": 39,
     "metadata": {},
     "output_type": "execute_result"
    }
   ],
   "source": [
    "# summary of dataframe\n",
    "df.info"
   ]
  },
  {
   "cell_type": "code",
   "execution_count": 40,
   "id": "1683ddfe",
   "metadata": {},
   "outputs": [
    {
     "data": {
      "text/html": [
       "<div>\n",
       "<style scoped>\n",
       "    .dataframe tbody tr th:only-of-type {\n",
       "        vertical-align: middle;\n",
       "    }\n",
       "\n",
       "    .dataframe tbody tr th {\n",
       "        vertical-align: top;\n",
       "    }\n",
       "\n",
       "    .dataframe thead th {\n",
       "        text-align: right;\n",
       "    }\n",
       "</style>\n",
       "<table border=\"1\" class=\"dataframe\">\n",
       "  <thead>\n",
       "    <tr style=\"text-align: right;\">\n",
       "      <th></th>\n",
       "      <th>Sample</th>\n",
       "      <th>Voltage</th>\n",
       "    </tr>\n",
       "  </thead>\n",
       "  <tbody>\n",
       "    <tr>\n",
       "      <th>count</th>\n",
       "      <td>30.000000</td>\n",
       "      <td>30.000000</td>\n",
       "    </tr>\n",
       "    <tr>\n",
       "      <th>mean</th>\n",
       "      <td>15.500000</td>\n",
       "      <td>120.000000</td>\n",
       "    </tr>\n",
       "    <tr>\n",
       "      <th>std</th>\n",
       "      <td>8.803408</td>\n",
       "      <td>9.978425</td>\n",
       "    </tr>\n",
       "    <tr>\n",
       "      <th>min</th>\n",
       "      <td>1.000000</td>\n",
       "      <td>93.300000</td>\n",
       "    </tr>\n",
       "    <tr>\n",
       "      <th>25%</th>\n",
       "      <td>8.250000</td>\n",
       "      <td>119.700000</td>\n",
       "    </tr>\n",
       "    <tr>\n",
       "      <th>50%</th>\n",
       "      <td>15.500000</td>\n",
       "      <td>119.950000</td>\n",
       "    </tr>\n",
       "    <tr>\n",
       "      <th>75%</th>\n",
       "      <td>22.750000</td>\n",
       "      <td>120.200000</td>\n",
       "    </tr>\n",
       "    <tr>\n",
       "      <th>max</th>\n",
       "      <td>30.000000</td>\n",
       "      <td>154.000000</td>\n",
       "    </tr>\n",
       "  </tbody>\n",
       "</table>\n",
       "</div>"
      ],
      "text/plain": [
       "          Sample     Voltage\n",
       "count  30.000000   30.000000\n",
       "mean   15.500000  120.000000\n",
       "std     8.803408    9.978425\n",
       "min     1.000000   93.300000\n",
       "25%     8.250000  119.700000\n",
       "50%    15.500000  119.950000\n",
       "75%    22.750000  120.200000\n",
       "max    30.000000  154.000000"
      ]
     },
     "execution_count": 40,
     "metadata": {},
     "output_type": "execute_result"
    }
   ],
   "source": [
    "# summary of statistics\n",
    "df.describe()"
   ]
  },
  {
   "cell_type": "code",
   "execution_count": 41,
   "id": "a3074891",
   "metadata": {},
   "outputs": [
    {
     "data": {
      "text/plain": [
       "np.float64(1.959963984540054)"
      ]
     },
     "execution_count": 41,
     "metadata": {},
     "output_type": "execute_result"
    }
   ],
   "source": [
    "# z-critical for two-tailed test \n",
    "aplha = 0.05\n",
    "z_critical = stats.norm.ppf(1 - aplha/2)\n",
    "z_critical"
   ]
  },
  {
   "cell_type": "code",
   "execution_count": 42,
   "id": "d0ac6191",
   "metadata": {},
   "outputs": [],
   "source": [
    "# confidence interval \n",
    "pop_std = 0.5\n",
    "\n",
    "ci_lower, ci_upper = stats.norm.interval(\n",
    "    confidence=0.95,\n",
    "    loc=df['Voltage'].mean(),\n",
    "    scale=pop_std/np.sqrt(df['Voltage'].count()))\n"
   ]
  },
  {
   "cell_type": "code",
   "execution_count": 43,
   "id": "1159dc61",
   "metadata": {},
   "outputs": [
    {
     "data": {
      "text/plain": [
       "np.float64(119.82108058562828)"
      ]
     },
     "execution_count": 43,
     "metadata": {},
     "output_type": "execute_result"
    }
   ],
   "source": [
    "ci_lower"
   ]
  },
  {
   "cell_type": "code",
   "execution_count": 44,
   "id": "7c785eaa",
   "metadata": {},
   "outputs": [
    {
     "data": {
      "text/plain": [
       "np.float64(120.17891941437172)"
      ]
     },
     "execution_count": 44,
     "metadata": {},
     "output_type": "execute_result"
    }
   ],
   "source": [
    "ci_upper"
   ]
  },
  {
   "cell_type": "code",
   "execution_count": 45,
   "id": "596ce2f5",
   "metadata": {},
   "outputs": [
    {
     "name": "stdout",
     "output_type": "stream",
     "text": [
      "confidence interval =  119.82 , 120.18\n"
     ]
    }
   ],
   "source": [
    "print(\"confidence interval = \", ci_lower.round(2),\",\", ci_upper.round(2))"
   ]
  },
  {
   "cell_type": "code",
   "execution_count": 56,
   "id": "13bf2c79",
   "metadata": {},
   "outputs": [
    {
     "data": {
      "image/png": "[encoded data removed]",
      "text/plain": [
       "<Figure size 640x480 with 1 Axes>"
      ]
     },
     "metadata": {},
     "output_type": "display_data"
    }
   ],
   "source": [
    "# voltage distribution \n",
    "mean = df['Voltage'].mean()\n",
    "std = df['Voltage'].std(ddof=1)\n",
    "\n",
    "# x-axis \n",
    "x_min = df['Voltage'].min()\n",
    "x_max = df['Voltage'].max()\n",
    "\n",
    "# normal distribution plot\n",
    "x = np.linspace(x_min, x_max, 100)\n",
    "p = stats.norm.pdf(x, mean, std)\n",
    "plt.plot(x, p, linewidth= 2.5, color = \"Cyan\")\n",
    "\n",
    "# histogram \n",
    "plt.hist(df['Voltage'], bins=4,density=True,alpha=0.8, color = \"Purple\")\n",
    "plt.title('Voltage Distribution')\n",
    "plt.ylabel('Probability Density')\n",
    "plt.xlabel('Voltage (V)')\n",
    "\n",
    "# confidence interval \n",
    "plt.axvline(x=ci_lower,)\n",
    "plt.axvline(x=ci_upper)\n",
    "plt.show()"
   ]
  }
 ],
 "metadata": {
  "kernelspec": {
   "display_name": "Python 3",
   "language": "python",
   "name": "python3"
  },
  "language_info": {
   "codemirror_mode": {
    "name": "ipython",
    "version": 3
   },
   "file_extension": ".py",
   "mimetype": "text/x-python",
   "name": "python",
   "nbconvert_exporter": "python",
   "pygments_lexer": "ipython3",
   "version": "3.11.9"
  }
 },
 "nbformat": 4,
 "nbformat_minor": 5
}

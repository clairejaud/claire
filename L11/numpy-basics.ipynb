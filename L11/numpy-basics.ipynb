{
 "cells": [
  {
   "cell_type": "markdown",
   "id": "c4d1c753",
   "metadata": {},
   "source": [
    "# Numpy Basics <hr style=\"border:2.5px solid #800080\"></hr>"
   ]
  },
  {
   "cell_type": "markdown",
   "id": "38c4da00",
   "metadata": {},
   "source": [
    "Data Analyst: Claire Jaud <br>\n",
    "Department: Electrical Engineering\n"
   ]
  },
  {
   "cell_type": "code",
   "execution_count": 2,
   "id": "1d2bd3f1",
   "metadata": {},
   "outputs": [],
   "source": [
    "# imports and packages\n",
    "import numpy as np\n",
    "from scipy import stats"
   ]
  },
  {
   "cell_type": "markdown",
   "id": "cbf51877",
   "metadata": {},
   "source": [
    "# 1D Array"
   ]
  },
  {
   "cell_type": "code",
   "execution_count": 2,
   "id": "ffb0db9d",
   "metadata": {},
   "outputs": [
    {
     "data": {
      "text/plain": [
       "array([1, 2, 3])"
      ]
     },
     "execution_count": 2,
     "metadata": {},
     "output_type": "execute_result"
    }
   ],
   "source": [
    "array_a = np.array([1,2,3])\n",
    "array_a"
   ]
  },
  {
   "cell_type": "markdown",
   "id": "bfe6b2d6",
   "metadata": {},
   "source": [
    "# 2D Array"
   ]
  },
  {
   "cell_type": "code",
   "execution_count": 8,
   "id": "030f78ce",
   "metadata": {},
   "outputs": [
    {
     "data": {
      "text/plain": [
       "array([[1, 2, 3],\n",
       "       [4, 5, 6]])"
      ]
     },
     "execution_count": 8,
     "metadata": {},
     "output_type": "execute_result"
    }
   ],
   "source": [
    "# 2-dimensional array\n",
    "my_array = np.array([[1,2,3],[4,5,6]])\n",
    "my_array"
   ]
  },
  {
   "cell_type": "code",
   "execution_count": 9,
   "id": "e927dfb7",
   "metadata": {},
   "outputs": [],
   "source": [
    "my_array =  my_array.T \n"
   ]
  },
  {
   "cell_type": "code",
   "execution_count": 10,
   "id": "caf1818f",
   "metadata": {},
   "outputs": [
    {
     "data": {
      "text/plain": [
       "array([[1, 4],\n",
       "       [2, 5],\n",
       "       [3, 6]])"
      ]
     },
     "execution_count": 10,
     "metadata": {},
     "output_type": "execute_result"
    }
   ],
   "source": [
    "my_array"
   ]
  },
  {
   "cell_type": "code",
   "execution_count": 11,
   "id": "a22b9c8c",
   "metadata": {},
   "outputs": [
    {
     "data": {
      "text/plain": [
       "array([ 6, 15])"
      ]
     },
     "execution_count": 11,
     "metadata": {},
     "output_type": "execute_result"
    }
   ],
   "source": [
    "# add by row\n",
    "np.sum(my_array, axis=0)"
   ]
  },
  {
   "cell_type": "code",
   "execution_count": 12,
   "id": "4a3c994b",
   "metadata": {},
   "outputs": [
    {
     "data": {
      "text/plain": [
       "array([5, 7, 9])"
      ]
     },
     "execution_count": 12,
     "metadata": {},
     "output_type": "execute_result"
    }
   ],
   "source": [
    "# by column\n",
    "np.sum(my_array, axis=1)\n"
   ]
  },
  {
   "cell_type": "markdown",
   "id": "227ecdc6",
   "metadata": {},
   "source": [
    "# Measure of Central Tendency"
   ]
  },
  {
   "cell_type": "code",
   "execution_count": 13,
   "id": "035d20f6",
   "metadata": {},
   "outputs": [
    {
     "data": {
      "text/plain": [
       "array([120,  60,  85, 150, 200])"
      ]
     },
     "execution_count": 13,
     "metadata": {},
     "output_type": "execute_result"
    }
   ],
   "source": [
    "fruits = np.array([120,60,85,150,200])\n",
    "fruits\n"
   ]
  },
  {
   "cell_type": "code",
   "execution_count": 14,
   "id": "4e792b72",
   "metadata": {},
   "outputs": [
    {
     "data": {
      "text/plain": [
       "np.float64(123.0)"
      ]
     },
     "execution_count": 14,
     "metadata": {},
     "output_type": "execute_result"
    }
   ],
   "source": [
    "fruits_mean = np.mean(fruits)\n",
    "fruits_mean"
   ]
  },
  {
   "cell_type": "code",
   "execution_count": 15,
   "id": "d20bb5ae",
   "metadata": {},
   "outputs": [
    {
     "data": {
      "text/plain": [
       "np.float64(120.0)"
      ]
     },
     "execution_count": 15,
     "metadata": {},
     "output_type": "execute_result"
    }
   ],
   "source": [
    "median_fruits = np.median(fruits)\n",
    "median_fruits\n"
   ]
  },
  {
   "cell_type": "code",
   "execution_count": 16,
   "id": "ce31f67c",
   "metadata": {},
   "outputs": [
    {
     "data": {
      "text/plain": [
       "ModeResult(mode=np.int64(60), count=np.int64(1))"
      ]
     },
     "execution_count": 16,
     "metadata": {},
     "output_type": "execute_result"
    }
   ],
   "source": [
    "mode_fruits = stats.mode(fruits)\n",
    "mode_fruits"
   ]
  },
  {
   "cell_type": "markdown",
   "id": "6e06a38f",
   "metadata": {},
   "source": [
    "# Jaguar vs Panther"
   ]
  },
  {
   "cell_type": "markdown",
   "id": "dbe2ad15",
   "metadata": {},
   "source": [
    "# Jaguar"
   ]
  },
  {
   "cell_type": "code",
   "execution_count": 17,
   "id": "8ab73d13",
   "metadata": {},
   "outputs": [
    {
     "data": {
      "text/plain": [
       "array([10.6,  9.1,  9.3,  9.8, 10.5, 10.4,  9.5, 11. , 10.4,  3. ,  9.8])"
      ]
     },
     "execution_count": 17,
     "metadata": {},
     "output_type": "execute_result"
    }
   ],
   "source": [
    "jaguar = np.array([10.6,9.1,9.3,9.8,10.5,10.4,9.5,11,10.4,3,9.8])\n",
    "jaguar"
   ]
  },
  {
   "cell_type": "code",
   "execution_count": 18,
   "id": "d17be979",
   "metadata": {},
   "outputs": [
    {
     "data": {
      "text/plain": [
       "np.float64(9.399999999999999)"
      ]
     },
     "execution_count": 18,
     "metadata": {},
     "output_type": "execute_result"
    }
   ],
   "source": [
    "jaguar_mean = np.mean(jaguar)\n",
    "jaguar_mean"
   ]
  },
  {
   "cell_type": "code",
   "execution_count": 19,
   "id": "15922220",
   "metadata": {},
   "outputs": [
    {
     "data": {
      "text/plain": [
       "np.float64(9.8)"
      ]
     },
     "execution_count": 19,
     "metadata": {},
     "output_type": "execute_result"
    }
   ],
   "source": [
    "median_jaguar = np.median(jaguar)\n",
    "median_jaguar"
   ]
  },
  {
   "cell_type": "code",
   "execution_count": 20,
   "id": "d54b9deb",
   "metadata": {},
   "outputs": [
    {
     "data": {
      "text/plain": [
       "ModeResult(mode=np.float64(9.8), count=np.int64(2))"
      ]
     },
     "execution_count": 20,
     "metadata": {},
     "output_type": "execute_result"
    }
   ],
   "source": [
    "mode_jaguar = stats.mode(jaguar)\n",
    "mode_jaguar"
   ]
  },
  {
   "cell_type": "code",
   "execution_count": 21,
   "id": "872156b7",
   "metadata": {},
   "outputs": [
    {
     "data": {
      "text/plain": [
       "np.float64(8.0)"
      ]
     },
     "execution_count": 21,
     "metadata": {},
     "output_type": "execute_result"
    }
   ],
   "source": [
    "max_jaguar = np.max(jaguar)\n",
    "min_jaguar = np.min(jaguar)\n",
    "\n",
    "range_jaguar = max_jaguar - min_jaguar\n",
    "range_jaguar"
   ]
  },
  {
   "cell_type": "code",
   "execution_count": 22,
   "id": "2b66513d",
   "metadata": {},
   "outputs": [
    {
     "data": {
      "text/plain": [
       "np.float64(9.4)"
      ]
     },
     "execution_count": 22,
     "metadata": {},
     "output_type": "execute_result"
    }
   ],
   "source": [
    "q1_jaguar = np.percentile(jaguar,25)\n",
    "q1_jaguar"
   ]
  },
  {
   "cell_type": "code",
   "execution_count": 23,
   "id": "da07a473",
   "metadata": {},
   "outputs": [
    {
     "data": {
      "text/plain": [
       "np.float64(9.8)"
      ]
     },
     "execution_count": 23,
     "metadata": {},
     "output_type": "execute_result"
    }
   ],
   "source": [
    "q2_jaguar = np.percentile(jaguar,50)\n",
    "q2_jaguar\n"
   ]
  },
  {
   "cell_type": "code",
   "execution_count": 24,
   "id": "ff754659",
   "metadata": {},
   "outputs": [
    {
     "data": {
      "text/plain": [
       "np.float64(10.45)"
      ]
     },
     "execution_count": 24,
     "metadata": {},
     "output_type": "execute_result"
    }
   ],
   "source": [
    "q3_jaguar = np.percentile(jaguar,75)\n",
    "q3_jaguar"
   ]
  },
  {
   "cell_type": "code",
   "execution_count": 25,
   "id": "416a8a0c",
   "metadata": {},
   "outputs": [
    {
     "data": {
      "text/plain": [
       "np.float64(1.049999999999999)"
      ]
     },
     "execution_count": 25,
     "metadata": {},
     "output_type": "execute_result"
    }
   ],
   "source": [
    "iqr_jaguar = q3_jaguar - q1_jaguar\n",
    "iqr_jaguar"
   ]
  },
  {
   "cell_type": "code",
   "execution_count": 26,
   "id": "82dfda3d",
   "metadata": {},
   "outputs": [
    {
     "data": {
      "text/plain": [
       "np.float64(4.86)"
      ]
     },
     "execution_count": 26,
     "metadata": {},
     "output_type": "execute_result"
    }
   ],
   "source": [
    "# sample variance \n",
    "var_jaguar = np.var(jaguar,ddof=1)\n",
    "var_jaguar"
   ]
  },
  {
   "cell_type": "code",
   "execution_count": 27,
   "id": "49b2aafa",
   "metadata": {},
   "outputs": [
    {
     "data": {
      "text/plain": [
       "np.float64(2.2045407685048604)"
      ]
     },
     "execution_count": 27,
     "metadata": {},
     "output_type": "execute_result"
    }
   ],
   "source": [
    "# sample standard deviation\n",
    "std_jaguar = np.std(jaguar,ddof=1)\n",
    "std_jaguar"
   ]
  },
  {
   "cell_type": "markdown",
   "id": "9a9c9438",
   "metadata": {},
   "source": [
    "# Panther"
   ]
  },
  {
   "cell_type": "code",
   "execution_count": 28,
   "id": "7e9dffbc",
   "metadata": {},
   "outputs": [
    {
     "data": {
      "text/plain": [
       "array([10.1, 11. ,  9.1, 20. ,  9.2, 10.8,  9.9,  9.2,  9.1,  9.1])"
      ]
     },
     "execution_count": 28,
     "metadata": {},
     "output_type": "execute_result"
    }
   ],
   "source": [
    "panther = np.array([10.1,11,9.1,20,9.2,10.8,9.9,9.2,9.1,9.1])\n",
    "panther"
   ]
  },
  {
   "cell_type": "code",
   "execution_count": 29,
   "id": "7cbe0d7d",
   "metadata": {},
   "outputs": [
    {
     "data": {
      "text/plain": [
       "np.float64(10.75)"
      ]
     },
     "execution_count": 29,
     "metadata": {},
     "output_type": "execute_result"
    }
   ],
   "source": [
    "panther_mean = np.mean(panther)\n",
    "panther_mean"
   ]
  },
  {
   "cell_type": "code",
   "execution_count": 30,
   "id": "99997871",
   "metadata": {},
   "outputs": [
    {
     "data": {
      "text/plain": [
       "np.float64(9.55)"
      ]
     },
     "execution_count": 30,
     "metadata": {},
     "output_type": "execute_result"
    }
   ],
   "source": [
    "median_panther = np.median(panther)\n",
    "median_panther"
   ]
  },
  {
   "cell_type": "code",
   "execution_count": 31,
   "id": "d335dcd2",
   "metadata": {},
   "outputs": [
    {
     "data": {
      "text/plain": [
       "ModeResult(mode=np.float64(9.1), count=np.int64(3))"
      ]
     },
     "execution_count": 31,
     "metadata": {},
     "output_type": "execute_result"
    }
   ],
   "source": [
    "mode_panther = stats.mode(panther)\n",
    "mode_panther\n"
   ]
  },
  {
   "cell_type": "code",
   "execution_count": 32,
   "id": "8f6a200c",
   "metadata": {},
   "outputs": [
    {
     "data": {
      "text/plain": [
       "np.float64(10.9)"
      ]
     },
     "execution_count": 32,
     "metadata": {},
     "output_type": "execute_result"
    }
   ],
   "source": [
    "max_panther = np.max(panther)\n",
    "min_panther = np.min(panther)\n",
    "\n",
    "range_panther = max_panther - min_panther\n",
    "range_panther\n"
   ]
  },
  {
   "cell_type": "code",
   "execution_count": 33,
   "id": "05f6c172",
   "metadata": {},
   "outputs": [
    {
     "data": {
      "text/plain": [
       "np.float64(9.125)"
      ]
     },
     "execution_count": 33,
     "metadata": {},
     "output_type": "execute_result"
    }
   ],
   "source": [
    "q1_panther = np.percentile(panther,25)\n",
    "q1_panther"
   ]
  },
  {
   "cell_type": "code",
   "execution_count": 34,
   "id": "1d68cb29",
   "metadata": {},
   "outputs": [
    {
     "data": {
      "text/plain": [
       "np.float64(9.55)"
      ]
     },
     "execution_count": 34,
     "metadata": {},
     "output_type": "execute_result"
    }
   ],
   "source": [
    "q2_panther = np.percentile(panther,50)\n",
    "q2_panther"
   ]
  },
  {
   "cell_type": "code",
   "execution_count": 35,
   "id": "a3f7dd1d",
   "metadata": {},
   "outputs": [
    {
     "data": {
      "text/plain": [
       "np.float64(10.625)"
      ]
     },
     "execution_count": 35,
     "metadata": {},
     "output_type": "execute_result"
    }
   ],
   "source": [
    "q3_panther = np.percentile(panther,75)\n",
    "q3_panther"
   ]
  },
  {
   "cell_type": "code",
   "execution_count": 36,
   "id": "9e6ed793",
   "metadata": {},
   "outputs": [
    {
     "data": {
      "text/plain": [
       "np.float64(1.5)"
      ]
     },
     "execution_count": 36,
     "metadata": {},
     "output_type": "execute_result"
    }
   ],
   "source": [
    "iqr_panther = q3_panther - q1_panther\n",
    "iqr_panther"
   ]
  },
  {
   "cell_type": "code",
   "execution_count": 37,
   "id": "01572eb3",
   "metadata": {},
   "outputs": [
    {
     "data": {
      "text/plain": [
       "np.float64(11.082777777777777)"
      ]
     },
     "execution_count": 37,
     "metadata": {},
     "output_type": "execute_result"
    }
   ],
   "source": [
    "# sample variance \n",
    "var_panther = np.var(panther,ddof=1)\n",
    "var_panther"
   ]
  },
  {
   "cell_type": "code",
   "execution_count": 38,
   "id": "8938d838",
   "metadata": {},
   "outputs": [
    {
     "data": {
      "text/plain": [
       "np.float64(3.3290806204983645)"
      ]
     },
     "execution_count": 38,
     "metadata": {},
     "output_type": "execute_result"
    }
   ],
   "source": [
    "# sample standard deviation\n",
    "std_panther = np.std(panther,ddof=1)\n",
    "std_panther"
   ]
  }
 ],
 "metadata": {
  "kernelspec": {
   "display_name": "Python 3",
   "language": "python",
   "name": "python3"
  },
  "language_info": {
   "codemirror_mode": {
    "name": "ipython",
    "version": 3
   },
   "file_extension": ".py",
   "mimetype": "text/x-python",
   "name": "python",
   "nbconvert_exporter": "python",
   "pygments_lexer": "ipython3",
   "version": "3.11.9"
  }
 },
 "nbformat": 4,
 "nbformat_minor": 5
}
